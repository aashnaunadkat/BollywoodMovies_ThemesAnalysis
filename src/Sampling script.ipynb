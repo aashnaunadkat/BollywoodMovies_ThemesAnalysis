{
 "cells": [
  {
   "cell_type": "code",
   "execution_count": null,
   "id": "1b51742d-121d-465d-be29-17644154d504",
   "metadata": {},
   "outputs": [],
   "source": [
    "# Step 1: Import pandas to work with CSV files\n",
    "import pandas as pd"
   ]
  },
  {
   "cell_type": "code",
   "execution_count": null,
   "id": "6daa4a56-5753-447c-bafc-05d8451aec0c",
   "metadata": {},
   "outputs": [],
   "source": [
    "# Step 2: Load the CSV file (change this if your filename is different)\n",
    "df = pd.read_csv(\"../data/supplementary files/bollywood_full_1950-2019.csv\")\n",
    "\n",
    "# Step 3: Look at the data to make sure it loaded correctly\n",
    "df.head()  # Just to see the first few rows"
   ]
  },
  {
   "cell_type": "code",
   "execution_count": null,
   "id": "ad500e43-bf7b-4357-a587-00195ba02841",
   "metadata": {},
   "outputs": [],
   "source": [
    "# Check data types for manipulation\n",
    "df.dtypes"
   ]
  },
  {
   "cell_type": "code",
   "execution_count": null,
   "id": "45edceac-82af-4bad-9876-f332faefe74b",
   "metadata": {},
   "outputs": [],
   "source": [
    "# Find rows with missing year_of_release before manipulating to int type\n",
    "df['year_of_release'].unique()"
   ]
  },
  {
   "cell_type": "code",
   "execution_count": null,
   "id": "cee0f09d-0472-4245-a74d-079742e2c9cb",
   "metadata": {},
   "outputs": [],
   "source": [
    "# Find rows where year_of_release is '\\N'\n",
    "missing_years_df = df[df['year_of_release'] == '\\\\N']\n",
    "\n",
    "# Display the rows\n",
    "print(missingmissing_years_df)"
   ]
  },
  {
   "cell_type": "code",
   "execution_count": null,
   "id": "65df18b5-91d9-4321-920c-3416a154137a",
   "metadata": {},
   "outputs": [],
   "source": [
    "# Manually add year_of_release for one (only 2 total without year, one unavailable)\n",
    "df.loc[72, 'year_of_release'] = '2019'"
   ]
  },
  {
   "cell_type": "code",
   "execution_count": null,
   "id": "ef1f743c-b77f-4fc3-a047-1b32245ab3c6",
   "metadata": {},
   "outputs": [],
   "source": [
    "# Change year_of_release to integer for easy operations; skip the one movie with a missing year\n",
    "df['year_of_release'] = pd.to_numeric(df['year_of_release'], errors='coerce')\n",
    "df = df.dropna(subset=['year_of_release'])\n",
    "df['year_of_release'] = df['year_of_release'].astype(int)"
   ]
  },
  {
   "cell_type": "code",
   "execution_count": null,
   "id": "1c7bfebf-1b2a-468c-851f-e6499c857d3a",
   "metadata": {},
   "outputs": [],
   "source": [
    "# Filter to only movies released after 2010\n",
    "df_filtered = df[df['year_of_release'] > 2010]\n",
    "\n",
    "df_filtered.head()"
   ]
  },
  {
   "cell_type": "code",
   "execution_count": null,
   "id": "1ae95af6-d843-49ba-abf0-cf5e33373478",
   "metadata": {},
   "outputs": [],
   "source": [
    "# Randomly sample 100 movies from that filtered list\n",
    "sampled_df = df_filtered.sample(n=100, random_state=42)\n",
    "\n",
    "# Save the sample to a new CSV file\n",
    "sampled_df.to_csv(\"../data/sample_100_movies.csv\", index=False)\n",
    "\n",
    "# Confirm it's saved and check the shape\n",
    "sampled_df.shape"
   ]
  },
  {
   "cell_type": "code",
   "execution_count": null,
   "id": "5b3e1e5c-7d87-4989-969c-dc33f28fd3fd",
   "metadata": {},
   "outputs": [],
   "source": []
  }
 ],
 "metadata": {
  "kernelspec": {
   "display_name": "Python 3 (ipykernel)",
   "language": "python",
   "name": "python3"
  },
  "language_info": {
   "codemirror_mode": {
    "name": "ipython",
    "version": 3
   },
   "file_extension": ".py",
   "mimetype": "text/x-python",
   "name": "python",
   "nbconvert_exporter": "python",
   "pygments_lexer": "ipython3",
   "version": "3.13.5"
  }
 },
 "nbformat": 4,
 "nbformat_minor": 5
}
